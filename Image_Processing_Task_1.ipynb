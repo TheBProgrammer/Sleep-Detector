{
  "nbformat": 4,
  "nbformat_minor": 0,
  "metadata": {
    "colab": {
      "name": "Image Processing Task 1.ipynb",
      "provenance": [],
      "authorship_tag": "ABX9TyPTtideSdefNXrt1DDrKlV6"
    },
    "kernelspec": {
      "name": "python3",
      "display_name": "Python 3"
    },
    "language_info": {
      "name": "python"
    }
  },
  "cells": [
    {
      "cell_type": "code",
      "metadata": {
        "colab": {
          "base_uri": "https://localhost:8080/"
        },
        "id": "W9Pb5FGPR1nQ",
        "outputId": "72005080-553d-4965-ca3a-14c6faf0425f"
      },
      "source": [
        "12+12"
      ],
      "execution_count": 1,
      "outputs": [
        {
          "output_type": "execute_result",
          "data": {
            "text/plain": [
              "24"
            ]
          },
          "metadata": {},
          "execution_count": 1
        }
      ]
    },
    {
      "cell_type": "code",
      "metadata": {
        "colab": {
          "base_uri": "https://localhost:8080/"
        },
        "id": "Z1Mo2_A5Snkr",
        "outputId": "1c0be038-5668-4051-9145-548add364de4"
      },
      "source": [
        "234890/7"
      ],
      "execution_count": 2,
      "outputs": [
        {
          "output_type": "execute_result",
          "data": {
            "text/plain": [
              "33555.71428571428"
            ]
          },
          "metadata": {},
          "execution_count": 2
        }
      ]
    },
    {
      "cell_type": "code",
      "metadata": {
        "id": "6Ofm11swSnvv"
      },
      "source": [
        "a =5\n",
        "b =5"
      ],
      "execution_count": 3,
      "outputs": []
    },
    {
      "cell_type": "code",
      "metadata": {
        "colab": {
          "base_uri": "https://localhost:8080/"
        },
        "id": "unXs0P3USn5H",
        "outputId": "1e94710b-b72f-4550-f47c-8d75ebd6599b"
      },
      "source": [
        "a%b"
      ],
      "execution_count": 4,
      "outputs": [
        {
          "output_type": "execute_result",
          "data": {
            "text/plain": [
              "0"
            ]
          },
          "metadata": {},
          "execution_count": 4
        }
      ]
    },
    {
      "cell_type": "code",
      "metadata": {
        "id": "gbVhm14UTFtK"
      },
      "source": [
        "c = a*b"
      ],
      "execution_count": 5,
      "outputs": []
    },
    {
      "cell_type": "code",
      "metadata": {
        "colab": {
          "base_uri": "https://localhost:8080/"
        },
        "id": "bjCk9gb5TFyS",
        "outputId": "ffc9273b-73ec-46c2-e4a8-733624d1590f"
      },
      "source": [
        "print(c)"
      ],
      "execution_count": 6,
      "outputs": [
        {
          "output_type": "stream",
          "name": "stdout",
          "text": [
            "25\n"
          ]
        }
      ]
    },
    {
      "cell_type": "code",
      "metadata": {
        "colab": {
          "base_uri": "https://localhost:8080/"
        },
        "id": "WezBjHsZTF-Y",
        "outputId": "469b6ad5-dc84-41f3-d848-27d96750a692"
      },
      "source": [
        "type(a)"
      ],
      "execution_count": 7,
      "outputs": [
        {
          "output_type": "execute_result",
          "data": {
            "text/plain": [
              "int"
            ]
          },
          "metadata": {},
          "execution_count": 7
        }
      ]
    },
    {
      "cell_type": "code",
      "metadata": {
        "colab": {
          "base_uri": "https://localhost:8080/"
        },
        "id": "dFpaCMsVTGHr",
        "outputId": "ef024298-92fd-471f-dda5-fd488bc6448b"
      },
      "source": [
        "a = 5.8\n",
        "type(a)"
      ],
      "execution_count": 9,
      "outputs": [
        {
          "output_type": "execute_result",
          "data": {
            "text/plain": [
              "float"
            ]
          },
          "metadata": {},
          "execution_count": 9
        }
      ]
    },
    {
      "cell_type": "code",
      "metadata": {
        "colab": {
          "base_uri": "https://localhost:8080/"
        },
        "id": "fhqDRSS7TZMG",
        "outputId": "a2e679c4-24e2-41a6-a136-0fb02a6f9111"
      },
      "source": [
        "a = 3\n",
        "b = 5\n",
        "c = a/b\n",
        "print(c)\n",
        "type(c)"
      ],
      "execution_count": 10,
      "outputs": [
        {
          "output_type": "stream",
          "name": "stdout",
          "text": [
            "0.6\n"
          ]
        },
        {
          "output_type": "execute_result",
          "data": {
            "text/plain": [
              "float"
            ]
          },
          "metadata": {},
          "execution_count": 10
        }
      ]
    },
    {
      "cell_type": "code",
      "metadata": {
        "colab": {
          "base_uri": "https://localhost:8080/"
        },
        "id": "J-PQiaBPTZRu",
        "outputId": "7020516d-b345-4381-d148-7c07736c2681"
      },
      "source": [
        "a = True\n",
        "b = False\n",
        "c = 3\n",
        "\n",
        "c > 4\n"
      ],
      "execution_count": 13,
      "outputs": [
        {
          "output_type": "execute_result",
          "data": {
            "text/plain": [
              "False"
            ]
          },
          "metadata": {},
          "execution_count": 13
        }
      ]
    },
    {
      "cell_type": "code",
      "metadata": {
        "colab": {
          "base_uri": "https://localhost:8080/"
        },
        "id": "nzr-HI9xT-u3",
        "outputId": "44569c33-8cae-4c77-97b1-5ffadea83e1f"
      },
      "source": [
        "a or b"
      ],
      "execution_count": 14,
      "outputs": [
        {
          "output_type": "execute_result",
          "data": {
            "text/plain": [
              "True"
            ]
          },
          "metadata": {},
          "execution_count": 14
        }
      ]
    },
    {
      "cell_type": "code",
      "metadata": {
        "colab": {
          "base_uri": "https://localhost:8080/"
        },
        "id": "PXwBdZoYT-l4",
        "outputId": "5d11c305-faa6-41ef-c652-e192791a39be"
      },
      "source": [
        "a and b"
      ],
      "execution_count": 15,
      "outputs": [
        {
          "output_type": "execute_result",
          "data": {
            "text/plain": [
              "False"
            ]
          },
          "metadata": {},
          "execution_count": 15
        }
      ]
    }
  ]
}